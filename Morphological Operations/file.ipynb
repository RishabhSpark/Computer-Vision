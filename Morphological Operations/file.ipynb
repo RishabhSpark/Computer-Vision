{
  "nbformat": 4,
  "nbformat_minor": 0,
  "metadata": {
    "colab": {
      "provenance": []
    },
    "kernelspec": {
      "name": "python3",
      "display_name": "Python 3"
    },
    "language_info": {
      "name": "python"
    }
  },
  "cells": [
    {
      "cell_type": "code",
      "execution_count": 405,
      "metadata": {
        "id": "0IG81XEtNPld"
      },
      "outputs": [],
      "source": [
        "from matplotlib import pyplot as plt\n",
        "import cv2\n",
        "from google.colab.patches import cv2_imshow\n",
        "import numpy as np\n",
        "import math"
      ]
    },
    {
      "cell_type": "code",
      "source": [
        "img1 = cv2.imread(\"/content/Picture1.jpg\",cv2.IMREAD_COLOR)\n",
        "img2 = cv2.imread(\"/content/Picture2.jpg\",cv2.IMREAD_COLOR)\n",
        "img3 = cv2.imread(\"/content/Picture3.jpg\",cv2.IMREAD_COLOR)\n",
        "img4 = cv2.imread(\"/content/Picture4.jpg\",cv2.IMREAD_COLOR)\n",
        "img5 = cv2.imread(\"/content/Picture5.jpg\",cv2.IMREAD_COLOR)\n",
        "img6 = cv2.imread(\"/content/Picture6.jpg\",cv2.IMREAD_COLOR)\n",
        "img7 = cv2.imread(\"/content/Picture7.jpg\",cv2.IMREAD_COLOR)\n",
        "img8 = cv2.imread(\"/content/Picture8.jpg\",cv2.IMREAD_COLOR)\n",
        "img9 = cv2.imread(\"/content/Picture9.jpg\",cv2.IMREAD_COLOR)\n",
        "img10 = cv2.imread(\"/content/Picture10.jpg\",cv2.IMREAD_COLOR)\n",
        "img11 = cv2.imread(\"/content/Picture11.jpg\",cv2.IMREAD_COLOR)"
      ],
      "metadata": {
        "id": "G-eyB7jYOhWU"
      },
      "execution_count": 406,
      "outputs": []
    },
    {
      "cell_type": "code",
      "source": [
        "img1 = img1[10:100, 10:100]\n",
        "img2 = img2[10:100, 10:100]\n",
        "img3 = img3[10:100, 10:-10]\n",
        "img4 = img4[10:100, 10:-10]\n",
        "img5 = img5[10:100, 10:-10]\n",
        "img6 = img6[10:100, 10:-10]\n",
        "img7 = img7[10:100, 10:-10]\n",
        "img8 = img8[10:100, 10:-10]\n",
        "img9 = img9[5:-5, 5:-5]\n",
        "img10 = img10[2:-2, 2:-2]\n",
        "img11 = img11[2:-2, 2:-2]"
      ],
      "metadata": {
        "id": "rP3DPyfOPLOI"
      },
      "execution_count": 407,
      "outputs": []
    },
    {
      "cell_type": "markdown",
      "source": [
        "#### 7.1"
      ],
      "metadata": {
        "id": "FTk-Krb1_OAL"
      }
    },
    {
      "cell_type": "code",
      "source": [
        "def erosion(img, val):\n",
        "    kernel = np.ones((val, val), np.uint8)\n",
        "    img_erosion = cv2.erode(img, kernel, iterations=1)\n",
        "    cv2_imshow(img)\n",
        "    cv2_imshow(img_erosion)"
      ],
      "metadata": {
        "id": "LSLyOBhZPRAR"
      },
      "execution_count": 408,
      "outputs": []
    },
    {
      "cell_type": "code",
      "source": [
        "def dilation(img, val):\n",
        "    kernel = np.ones((val, val), np.uint8)\n",
        "    img_dilation = cv2.dilate(img, kernel, iterations=1)\n",
        "    cv2_imshow(img)\n",
        "    cv2_imshow(img_dilation)"
      ],
      "metadata": {
        "id": "6eX9kG0jQr62"
      },
      "execution_count": 409,
      "outputs": []
    },
    {
      "cell_type": "code",
      "source": [
        "erosion(img1, 2)"
      ],
      "metadata": {
        "colab": {
          "base_uri": "https://localhost:8080/",
          "height": 0
        },
        "id": "2DAr6uWIQSJY",
        "outputId": "1ce4ac0f-0185-4481-c429-eb50ac641318"
      },
      "execution_count": 410,
      "outputs": [
        {
          "output_type": "display_data",
          "data": {
            "text/plain": [
              "<PIL.Image.Image image mode=RGB size=90x90 at 0x7F22BA4766B0>"
            ],
            "image/png": "[encoded data removed]"
          },
          "metadata": {}
        },
        {
          "output_type": "display_data",
          "data": {
            "text/plain": [
              "<PIL.Image.Image image mode=RGB size=90x90 at 0x7F22BA4770D0>"
            ],
            "image/png": "[encoded data removed]"
          },
          "metadata": {}
        }
      ]
    },
    {
      "cell_type": "code",
      "source": [
        "dilation(img1, 3)"
      ],
      "metadata": {
        "colab": {
          "base_uri": "https://localhost:8080/",
          "height": 0
        },
        "id": "iqpDvjsIQw1O",
        "outputId": "eca4d225-8680-43a0-b7c3-17f85f7c4fbe"
      },
      "execution_count": 411,
      "outputs": [
        {
          "output_type": "display_data",
          "data": {
            "text/plain": [
              "<PIL.Image.Image image mode=RGB size=90x90 at 0x7F22BA4767A0>"
            ],
            "image/png": "[encoded data removed]"
          },
          "metadata": {}
        },
        {
          "output_type": "display_data",
          "data": {
            "text/plain": [
              "<PIL.Image.Image image mode=RGB size=90x90 at 0x7F22BA4763E0>"
            ],
            "image/png": "[encoded data removed]"
          },
          "metadata": {}
        }
      ]
    },
    {
      "cell_type": "code",
      "source": [
        "erosion(img2, 2)"
      ],
      "metadata": {
        "colab": {
          "base_uri": "https://localhost:8080/",
          "height": 0
        },
        "id": "VTm7g_b-QT72",
        "outputId": "0e8beb6b-f68c-4c1b-9239-4e7a57ff0541"
      },
      "execution_count": 412,
      "outputs": [
        {
          "output_type": "display_data",
          "data": {
            "text/plain": [
              "<PIL.Image.Image image mode=RGB size=90x90 at 0x7F22BA475750>"
            ],
            "image/png": "[encoded data removed]"
          },
          "metadata": {}
        },
        {
          "output_type": "display_data",
          "data": {
            "text/plain": [
              "<PIL.Image.Image image mode=RGB size=90x90 at 0x7F22BA476770>"
            ],
            "image/png": "[encoded data removed]"
          },
          "metadata": {}
        }
      ]
    },
    {
      "cell_type": "code",
      "source": [
        "dilation(img2, 3)"
      ],
      "metadata": {
        "colab": {
          "base_uri": "https://localhost:8080/",
          "height": 0
        },
        "id": "tuKEeACKQiz3",
        "outputId": "70e99952-e8cd-413d-a77a-8f853c3a3836"
      },
      "execution_count": 413,
      "outputs": [
        {
          "output_type": "display_data",
          "data": {
            "text/plain": [
              "<PIL.Image.Image image mode=RGB size=90x90 at 0x7F22BA477280>"
            ],
            "image/png": "[encoded data removed]"
          },
          "metadata": {}
        },
        {
          "output_type": "display_data",
          "data": {
            "text/plain": [
              "<PIL.Image.Image image mode=RGB size=90x90 at 0x7F22BA477A60>"
            ],
            "image/png": "[encoded data removed]"
          },
          "metadata": {}
        }
      ]
    },
    {
      "cell_type": "markdown",
      "source": [
        "#### 7.2"
      ],
      "metadata": {
        "id": "2WSJ2Bgi_Tzx"
      }
    },
    {
      "cell_type": "code",
      "source": [
        "def opening(img, val):\n",
        "  img = cv2.cvtColor(img, cv2.COLOR_BGR2GRAY)\n",
        "  binr = cv2.threshold(img, 0, 255, cv2.THRESH_BINARY+cv2.THRESH_OTSU)[1]\n",
        "  \n",
        "  # define the kernel\n",
        "  kernel = np.ones((val, val), np.uint8)\n",
        "    \n",
        "  # opening the image\n",
        "  opening = cv2.morphologyEx(binr, cv2.MORPH_OPEN, kernel, iterations=1)\n",
        "  cv2_imshow(img)\n",
        "  cv2_imshow(opening)"
      ],
      "metadata": {
        "id": "3odPzlpNQ2S1"
      },
      "execution_count": 414,
      "outputs": []
    },
    {
      "cell_type": "code",
      "source": [
        "opening(img3, 7)"
      ],
      "metadata": {
        "colab": {
          "base_uri": "https://localhost:8080/",
          "height": 0
        },
        "id": "g766LHmwRRHZ",
        "outputId": "e6129b13-e9f1-4d29-9524-029fc1061251"
      },
      "execution_count": 415,
      "outputs": [
        {
          "output_type": "display_data",
          "data": {
            "text/plain": [
              "<PIL.Image.Image image mode=L size=120x90 at 0x7F22BC760A60>"
            ],
            "image/png": "[encoded data removed]"
          },
          "metadata": {}
        },
        {
          "output_type": "display_data",
          "data": {
            "text/plain": [
              "<PIL.Image.Image image mode=L size=120x90 at 0x7F22BC760A60>"
            ],
            "image/png": "[encoded data removed]"
          },
          "metadata": {}
        }
      ]
    },
    {
      "cell_type": "code",
      "source": [
        "def closing(img, val):\n",
        "  img = cv2.cvtColor(img, cv2.COLOR_BGR2GRAY)\n",
        "  binr = cv2.threshold(img, 0, 255, cv2.THRESH_BINARY+cv2.THRESH_OTSU)[1]\n",
        "  \n",
        "  # define the kernel\n",
        "  kernel = np.ones((val, val), np.uint8)\n",
        "    \n",
        "  # closing the image\n",
        "  closing = cv2.morphologyEx(binr, cv2.MORPH_CLOSE, kernel, iterations=1)\n",
        "  cv2_imshow(img)\n",
        "  cv2_imshow(closing)"
      ],
      "metadata": {
        "id": "MwfnANdoRSTk"
      },
      "execution_count": 416,
      "outputs": []
    },
    {
      "cell_type": "code",
      "source": [
        "closing(img4, 9)"
      ],
      "metadata": {
        "colab": {
          "base_uri": "https://localhost:8080/",
          "height": 0
        },
        "id": "ou_7oJ9FTQJT",
        "outputId": "6feaccb0-e106-445e-e28b-df525599688f"
      },
      "execution_count": 417,
      "outputs": [
        {
          "output_type": "display_data",
          "data": {
            "text/plain": [
              "<PIL.Image.Image image mode=L size=120x90 at 0x7F22BA477100>"
            ],
            "image/png": "[encoded data removed]"
          },
          "metadata": {}
        },
        {
          "output_type": "display_data",
          "data": {
            "text/plain": [
              "<PIL.Image.Image image mode=L size=120x90 at 0x7F22BA477100>"
            ],
            "image/png": "[encoded data removed]"
          },
          "metadata": {}
        }
      ]
    },
    {
      "cell_type": "code",
      "source": [
        "def opening_closing(img, val1, val2):\n",
        "  img = cv2.cvtColor(img, cv2.COLOR_BGR2GRAY)\n",
        "  binr = cv2.threshold(img, 0, 255, cv2.THRESH_BINARY+cv2.THRESH_OTSU)[1]\n",
        "  \n",
        "  # define the kernel\n",
        "  kernel1 = np.ones((val1, val1), np.uint8)\n",
        "    \n",
        "  # opening the image\n",
        "  opening = cv2.morphologyEx(binr, cv2.MORPH_OPEN, kernel1, iterations=1)\n",
        "\n",
        "  kernel2 = np.ones((val2, val2), np.uint8)\n",
        "    \n",
        "  # closing the image\n",
        "  final = cv2.morphologyEx(opening, cv2.MORPH_CLOSE, kernel2, iterations=1)\n",
        "  cv2_imshow(img)\n",
        "  cv2_imshow(final)"
      ],
      "metadata": {
        "id": "kQmi2FJRTUKa"
      },
      "execution_count": 418,
      "outputs": []
    },
    {
      "cell_type": "code",
      "source": [
        "opening_closing(img4, 7, 11)"
      ],
      "metadata": {
        "colab": {
          "base_uri": "https://localhost:8080/",
          "height": 0
        },
        "id": "M5GIeOAWTynh",
        "outputId": "c8ac0648-0323-44d9-a638-e5f8d65a7e6b"
      },
      "execution_count": 419,
      "outputs": [
        {
          "output_type": "display_data",
          "data": {
            "text/plain": [
              "<PIL.Image.Image image mode=L size=120x90 at 0x7F22BA4779D0>"
            ],
            "image/png": "[encoded data removed]"
          },
          "metadata": {}
        },
        {
          "output_type": "display_data",
          "data": {
            "text/plain": [
              "<PIL.Image.Image image mode=L size=120x90 at 0x7F22BA4779D0>"
            ],
            "image/png": "[encoded data removed]"
          },
          "metadata": {}
        }
      ]
    },
    {
      "cell_type": "markdown",
      "source": [
        "#### 7.3"
      ],
      "metadata": {
        "id": "wusSrOhp_bw_"
      }
    },
    {
      "cell_type": "code",
      "source": [
        "def gradient(img, val):\n",
        "  kernel = np.ones((val, val), np.uint8)\n",
        "  gradient = cv2.morphologyEx(img, cv2.MORPH_GRADIENT, kernel)\n",
        "\n",
        "  cv2_imshow(img)\n",
        "  cv2_imshow(gradient)"
      ],
      "metadata": {
        "id": "iqMJ8inDT1-H"
      },
      "execution_count": 420,
      "outputs": []
    },
    {
      "cell_type": "code",
      "source": [
        "gradient(img5, 5)"
      ],
      "metadata": {
        "colab": {
          "base_uri": "https://localhost:8080/",
          "height": 0
        },
        "id": "gHFDNGaEUjCP",
        "outputId": "3c1cee55-7eac-4c3e-d659-6e2468bb4277"
      },
      "execution_count": 421,
      "outputs": [
        {
          "output_type": "display_data",
          "data": {
            "text/plain": [
              "<PIL.Image.Image image mode=RGB size=96x90 at 0x7F22BA475630>"
            ],
            "image/png": "[encoded data removed]"
          },
          "metadata": {}
        },
        {
          "output_type": "display_data",
          "data": {
            "text/plain": [
              "<PIL.Image.Image image mode=RGB size=96x90 at 0x7F22BA477A60>"
            ],
            "image/png": "[encoded data removed]"
          },
          "metadata": {}
        }
      ]
    },
    {
      "cell_type": "markdown",
      "source": [
        "#### 7.4"
      ],
      "metadata": {
        "id": "7nt5qL3p_kRZ"
      }
    },
    {
      "cell_type": "code",
      "source": [
        "closing(img6, 15)"
      ],
      "metadata": {
        "colab": {
          "base_uri": "https://localhost:8080/",
          "height": 0
        },
        "id": "FVoghZ5IZzMT",
        "outputId": "2108a5e5-2b5e-45b2-b45e-4857b7315790"
      },
      "execution_count": 422,
      "outputs": [
        {
          "output_type": "display_data",
          "data": {
            "text/plain": [
              "<PIL.Image.Image image mode=L size=96x90 at 0x7F22BA4772B0>"
            ],
            "image/png": "[encoded data removed]"
          },
          "metadata": {}
        },
        {
          "output_type": "display_data",
          "data": {
            "text/plain": [
              "<PIL.Image.Image image mode=L size=96x90 at 0x7F22BA4772B0>"
            ],
            "image/png": "[encoded data removed]"
          },
          "metadata": {}
        }
      ]
    },
    {
      "cell_type": "markdown",
      "source": [
        "#### 7.5"
      ],
      "metadata": {
        "id": "l1a3CRVG_tdu"
      }
    },
    {
      "cell_type": "code",
      "source": [
        "closing(img7, 7)"
      ],
      "metadata": {
        "colab": {
          "base_uri": "https://localhost:8080/",
          "height": 0
        },
        "id": "y9uHKl2FaXWI",
        "outputId": "d9e9d00c-2631-4280-a78f-d85c02499fad"
      },
      "execution_count": 423,
      "outputs": [
        {
          "output_type": "display_data",
          "data": {
            "text/plain": [
              "<PIL.Image.Image image mode=L size=96x90 at 0x7F22BA4774F0>"
            ],
            "image/png": "[encoded data removed]"
          },
          "metadata": {}
        },
        {
          "output_type": "display_data",
          "data": {
            "text/plain": [
              "<PIL.Image.Image image mode=L size=96x90 at 0x7F22BA4774F0>"
            ],
            "image/png": "[encoded data removed]"
          },
          "metadata": {}
        }
      ]
    },
    {
      "cell_type": "markdown",
      "source": [
        "#### 7.6"
      ],
      "metadata": {
        "id": "WetpAdCB_w5M"
      }
    },
    {
      "cell_type": "code",
      "source": [
        "opening(img8, 7)"
      ],
      "metadata": {
        "colab": {
          "base_uri": "https://localhost:8080/",
          "height": 0
        },
        "id": "b3Lr_X3MasF-",
        "outputId": "ea1dcd6e-e5af-4976-985f-c1d0f041c875"
      },
      "execution_count": 424,
      "outputs": [
        {
          "output_type": "display_data",
          "data": {
            "text/plain": [
              "<PIL.Image.Image image mode=L size=120x90 at 0x7F22BA477970>"
            ],
            "image/png": "[encoded data removed]"
          },
          "metadata": {}
        },
        {
          "output_type": "display_data",
          "data": {
            "text/plain": [
              "<PIL.Image.Image image mode=L size=120x90 at 0x7F22BA477970>"
            ],
            "image/png": "[encoded data removed]"
          },
          "metadata": {}
        }
      ]
    },
    {
      "cell_type": "markdown",
      "source": [
        "#### 7.7"
      ],
      "metadata": {
        "id": "hAP6XAK9_0J-"
      }
    },
    {
      "cell_type": "code",
      "source": [
        "img9 = cv2.cvtColor(img9, cv2.COLOR_BGR2GRAY)\n",
        "binr = cv2.threshold(img9, 0, 255, cv2.THRESH_BINARY+cv2.THRESH_OTSU)[1]\n",
        "\n",
        "val1 = 5\n",
        "# define the kernel\n",
        "kernel1 = np.ones((val1, val1), np.uint8)\n",
        "  \n",
        "# opening the image\n",
        "opening = cv2.morphologyEx(binr, cv2.MORPH_OPEN, kernel1, iterations=1)\n",
        "\n",
        "val2 = 5\n",
        "kernel2 = np.ones((val2, val2), np.uint8)\n",
        "  \n",
        "# closing the image\n",
        "final = cv2.morphologyEx(opening, cv2.MORPH_CLOSE, kernel2, iterations=1)\n",
        "cv2_imshow(img9)\n",
        "cv2_imshow(final)\n",
        "cv2.imwrite(\"/content/img9_preprocessed.jpg\", final)"
      ],
      "metadata": {
        "colab": {
          "base_uri": "https://localhost:8080/",
          "height": 230
        },
        "id": "trhZ8x_-_08o",
        "outputId": "a649cd3f-7982-4d3a-a3bc-388118a4fbcb"
      },
      "execution_count": 425,
      "outputs": [
        {
          "output_type": "display_data",
          "data": {
            "text/plain": [
              "<PIL.Image.Image image mode=L size=130x98 at 0x7F22BA45CB50>"
            ],
            "image/png": "[encoded data removed]"
          },
          "metadata": {}
        },
        {
          "output_type": "display_data",
          "data": {
            "text/plain": [
              "<PIL.Image.Image image mode=L size=130x98 at 0x7F22BA45E170>"
            ],
            "image/png": "[encoded data removed]"
          },
          "metadata": {}
        },
        {
          "output_type": "execute_result",
          "data": {
            "text/plain": [
              "True"
            ]
          },
          "metadata": {},
          "execution_count": 425
        }
      ]
    },
    {
      "cell_type": "code",
      "source": [
        "img9_prep = cv2.imread(\"/content/img9_preprocessed.jpg\",cv2.IMREAD_GRAYSCALE)"
      ],
      "metadata": {
        "id": "4FQFwnzUCEqp"
      },
      "execution_count": 426,
      "outputs": []
    },
    {
      "cell_type": "code",
      "source": [
        "def count_obj(img):\n",
        "  blur = cv2.GaussianBlur(img, (11, 11), 0)\n",
        "  canny = cv2.Canny(blur, 30, 150, 3)\n",
        "  dilated = cv2.dilate(canny, (1, 1), iterations=0)\n",
        "    \n",
        "  (cnt, hierarchy) = cv2.findContours(dilated.copy(), cv2.RETR_EXTERNAL, cv2.CHAIN_APPROX_NONE)\n",
        "  rgb = cv2.cvtColor(img, cv2.COLOR_BGR2RGB)\n",
        "  cv2.drawContours(rgb, cnt, -1, (0, 255, 0), 2)\n",
        "  \n",
        "  cv2_imshow(rgb)  \n",
        "  print(\"No. of objects in the image : \", len(cnt))"
      ],
      "metadata": {
        "id": "ReLFv6PXDcZC"
      },
      "execution_count": 427,
      "outputs": []
    },
    {
      "cell_type": "code",
      "source": [
        "count_obj(img9_prep)"
      ],
      "metadata": {
        "colab": {
          "base_uri": "https://localhost:8080/",
          "height": 132
        },
        "id": "OdSmk0LsEbyU",
        "outputId": "a6fc8be1-200b-47a7-e5c6-cbb2664328e3"
      },
      "execution_count": 428,
      "outputs": [
        {
          "output_type": "display_data",
          "data": {
            "text/plain": [
              "<PIL.Image.Image image mode=RGB size=130x98 at 0x7F22BC7614E0>"
            ],
            "image/png": "[encoded data removed]"
          },
          "metadata": {}
        },
        {
          "output_type": "stream",
          "name": "stdout",
          "text": [
            "No. of objects in the image :  2\n"
          ]
        }
      ]
    },
    {
      "cell_type": "code",
      "source": [
        "count_obj(img10)"
      ],
      "metadata": {
        "colab": {
          "base_uri": "https://localhost:8080/",
          "height": 145
        },
        "id": "QgUEKSM8FjVk",
        "outputId": "46fe0a01-7a9f-4d36-b638-2a09e1698f69"
      },
      "execution_count": 429,
      "outputs": [
        {
          "output_type": "display_data",
          "data": {
            "text/plain": [
              "<PIL.Image.Image image mode=RGB size=112x111 at 0x7F22BA3ED960>"
            ],
            "image/png": "[encoded data removed]"
          },
          "metadata": {}
        },
        {
          "output_type": "stream",
          "name": "stdout",
          "text": [
            "No. of objects in the image :  3\n"
          ]
        }
      ]
    },
    {
      "cell_type": "code",
      "source": [
        "count_obj(img11)"
      ],
      "metadata": {
        "colab": {
          "base_uri": "https://localhost:8080/",
          "height": 145
        },
        "id": "93U-S3UxFyqF",
        "outputId": "1dc9a7f8-6a60-4917-90e8-1474aed2f2b1"
      },
      "execution_count": 430,
      "outputs": [
        {
          "output_type": "display_data",
          "data": {
            "text/plain": [
              "<PIL.Image.Image image mode=RGB size=112x111 at 0x7F22BA3ED870>"
            ],
            "image/png": "[encoded data removed]"
          },
          "metadata": {}
        },
        {
          "output_type": "stream",
          "name": "stdout",
          "text": [
            "No. of objects in the image :  3\n"
          ]
        }
      ]
    }
  ]
}