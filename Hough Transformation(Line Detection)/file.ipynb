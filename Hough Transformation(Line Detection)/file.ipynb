{
  "nbformat": 4,
  "nbformat_minor": 0,
  "metadata": {
    "colab": {
      "provenance": []
    },
    "kernelspec": {
      "name": "python3",
      "display_name": "Python 3"
    },
    "language_info": {
      "name": "python"
    }
  },
  "cells": [
    {
      "cell_type": "code",
      "execution_count": 131,
      "metadata": {
        "id": "exLjB1SUYDiQ"
      },
      "outputs": [],
      "source": [
        "from matplotlib import pyplot as plt\n",
        "import cv2\n",
        "from google.colab.patches import cv2_imshow\n",
        "import numpy as np\n",
        "import math"
      ]
    },
    {
      "cell_type": "code",
      "source": [
        "img1 = cv2.imread(\"/content/Picture1.jpg\",cv2.IMREAD_COLOR)\n",
        "img2 = cv2.imread(\"/content/Picture2.jpg\",cv2.IMREAD_COLOR)\n",
        "img3 = cv2.imread(\"/content/Picture3.jpg\",cv2.IMREAD_COLOR)\n",
        "img4 = cv2.imread(\"/content/Picture4.jpg\",cv2.IMREAD_COLOR)\n",
        "img5 = cv2.imread(\"/content/Picture5.jpg\",cv2.IMREAD_COLOR)\n",
        "img6 = cv2.imread(\"/content/Picture6.jpg\",cv2.IMREAD_COLOR)\n",
        "img7 = cv2.imread(\"/content/Picture7.jpg\",cv2.IMREAD_COLOR)\n",
        "img8 = cv2.imread(\"/content/Picture8.jpg\",cv2.IMREAD_COLOR)"
      ],
      "metadata": {
        "id": "PkR_D-AwY7SU"
      },
      "execution_count": 132,
      "outputs": []
    },
    {
      "cell_type": "code",
      "source": [
        "img1 = img1[10:100, 10:100]\n",
        "img2 = img2[10:100, 10:100]\n",
        "img3 = img3[10:100, 10:100]\n",
        "img4 = img4[10:100, 10:100]\n",
        "img6 = img6[10:100, 10:100]\n",
        "img7 = img7[10:100, 10:100]\n",
        "img8 = img8[10:100, 10:100]"
      ],
      "metadata": {
        "id": "oFLyhVTp-Eif"
      },
      "execution_count": 133,
      "outputs": []
    },
    {
      "cell_type": "code",
      "source": [
        "def hough(img):\n",
        "  dst = cv2.Canny(img, 50, 200, None, 3)\n",
        "  lines = cv2.HoughLines(dst, 1, np.pi / 180, 150, None, 0, 0)\n",
        "\n",
        "  cdst = cv2.cvtColor(dst, cv2.COLOR_GRAY2BGR)\n",
        "  cdstP = np.copy(cdst)\n",
        "\n",
        "  if lines is not None:\n",
        "    for i in range(0, len(lines)):\n",
        "      rho = lines[i][0][0]\n",
        "      theta = lines[i][0][1]\n",
        "      a = math.cos(theta)\n",
        "      b = math.sin(theta)\n",
        "      x0 = a * rho\n",
        "      y0 = b * rho\n",
        "      pt1 = (int(x0 + 1000*(-b)), int(y0 + 1000*(a)))\n",
        "      pt2 = (int(x0 - 1000*(-b)), int(y0 - 1000*(a)))\n",
        "      cv2.line(cdst, pt1, pt2, (0,0,255), 3, cv2.LINE_AA)\n",
        "\n",
        "  linesP = cv2.HoughLinesP(dst, 1, np.pi / 180, 30, None, 5, 50)\n",
        "\n",
        "  if linesP is not None:\n",
        "    for i in range(0, len(linesP)):\n",
        "      l = linesP[i][0]\n",
        "      cv2.line(cdstP, (l[0], l[1]), (l[2], l[3]), (0,255,0), 2, cv2.LINE_AA)\n",
        "  \n",
        "  cv2_imshow(img)\n",
        "  cv2_imshow(cdstP)"
      ],
      "metadata": {
        "id": "xVechdWi_AVU"
      },
      "execution_count": 134,
      "outputs": []
    },
    {
      "cell_type": "code",
      "source": [
        "hough(img1)"
      ],
      "metadata": {
        "colab": {
          "base_uri": "https://localhost:8080/",
          "height": 197
        },
        "id": "pxZYT0F9_fKU",
        "outputId": "d31f816e-ef17-4bf4-d7a2-6ad1060f332e"
      },
      "execution_count": 135,
      "outputs": [
        {
          "output_type": "display_data",
          "data": {
            "text/plain": [
              "<PIL.Image.Image image mode=RGB size=90x90 at 0x7F997BA31700>"
            ],
            "image/png": "[encoded data removed]"
          },
          "metadata": {}
        },
        {
          "output_type": "display_data",
          "data": {
            "text/plain": [
              "<PIL.Image.Image image mode=RGB size=90x90 at 0x7F997BA31550>"
            ],
            "image/png": "[encoded data removed]"
          },
          "metadata": {}
        }
      ]
    },
    {
      "cell_type": "code",
      "source": [
        "hough(img2)"
      ],
      "metadata": {
        "colab": {
          "base_uri": "https://localhost:8080/",
          "height": 197
        },
        "id": "yeetti6u_jXX",
        "outputId": "3c06c083-5d23-48e5-c3ff-874f47c5fdcc"
      },
      "execution_count": 136,
      "outputs": [
        {
          "output_type": "display_data",
          "data": {
            "text/plain": [
              "<PIL.Image.Image image mode=RGB size=90x90 at 0x7F997BA31F70>"
            ],
            "image/png": "[encoded data removed]"
          },
          "metadata": {}
        },
        {
          "output_type": "display_data",
          "data": {
            "text/plain": [
              "<PIL.Image.Image image mode=RGB size=90x90 at 0x7F997BA316D0>"
            ],
            "image/png": "[encoded data removed]"
          },
          "metadata": {}
        }
      ]
    },
    {
      "cell_type": "code",
      "source": [
        "hough(img3)"
      ],
      "metadata": {
        "colab": {
          "base_uri": "https://localhost:8080/",
          "height": 197
        },
        "id": "jzlPwVlC_pgT",
        "outputId": "d77b4563-e5dd-4b8f-a6bb-34e5445de0ad"
      },
      "execution_count": 137,
      "outputs": [
        {
          "output_type": "display_data",
          "data": {
            "text/plain": [
              "<PIL.Image.Image image mode=RGB size=90x90 at 0x7F997BA318E0>"
            ],
            "image/png": "[encoded data removed]"
          },
          "metadata": {}
        },
        {
          "output_type": "display_data",
          "data": {
            "text/plain": [
              "<PIL.Image.Image image mode=RGB size=90x90 at 0x7F997BA311F0>"
            ],
            "image/png": "[encoded data removed]"
          },
          "metadata": {}
        }
      ]
    },
    {
      "cell_type": "code",
      "source": [
        "hough(img4)"
      ],
      "metadata": {
        "colab": {
          "base_uri": "https://localhost:8080/",
          "height": 197
        },
        "id": "KF-CIm67_qyP",
        "outputId": "e80c7b3f-26de-4ff3-90b2-a26ff0cff952"
      },
      "execution_count": 138,
      "outputs": [
        {
          "output_type": "display_data",
          "data": {
            "text/plain": [
              "<PIL.Image.Image image mode=RGB size=90x90 at 0x7F997BAEC670>"
            ],
            "image/png": "[encoded data removed]"
          },
          "metadata": {}
        },
        {
          "output_type": "display_data",
          "data": {
            "text/plain": [
              "<PIL.Image.Image image mode=RGB size=90x90 at 0x7F997BAEC670>"
            ],
            "image/png": "[encoded data removed]"
          },
          "metadata": {}
        }
      ]
    },
    {
      "cell_type": "code",
      "source": [
        "hough(img5)"
      ],
      "metadata": {
        "colab": {
          "base_uri": "https://localhost:8080/",
          "height": 423
        },
        "id": "qhI1vEdl_r5e",
        "outputId": "f455b770-c586-4314-e98d-22bcd2a9f8fc"
      },
      "execution_count": 139,
      "outputs": [
        {
          "output_type": "display_data",
          "data": {
            "text/plain": [
              "<PIL.Image.Image image mode=RGB size=206x203 at 0x7F99A8929700>"
            ],
            "image/png": "[encoded data removed]"
          },
          "metadata": {}
        },
        {
          "output_type": "display_data",
          "data": {
            "text/plain": [
              "<PIL.Image.Image image mode=RGB size=206x203 at 0x7F99A89293A0>"
            ],
            "image/png": "[encoded data removed]"
          },
          "metadata": {}
        }
      ]
    },
    {
      "cell_type": "code",
      "source": [
        "hough(img7)"
      ],
      "metadata": {
        "colab": {
          "base_uri": "https://localhost:8080/",
          "height": 197
        },
        "id": "8TOU9jPA_vpe",
        "outputId": "147c5f12-3fea-4fad-b169-7185f92b0e30"
      },
      "execution_count": 140,
      "outputs": [
        {
          "output_type": "display_data",
          "data": {
            "text/plain": [
              "<PIL.Image.Image image mode=RGB size=90x90 at 0x7F997BA315E0>"
            ],
            "image/png": "[encoded data removed]"
          },
          "metadata": {}
        },
        {
          "output_type": "display_data",
          "data": {
            "text/plain": [
              "<PIL.Image.Image image mode=RGB size=90x90 at 0x7F997BA31340>"
            ],
            "image/png": "[encoded data removed]"
          },
          "metadata": {}
        }
      ]
    },
    {
      "cell_type": "code",
      "source": [
        "hough(img8)"
      ],
      "metadata": {
        "colab": {
          "base_uri": "https://localhost:8080/",
          "height": 197
        },
        "id": "-iRCGWJ9_2bD",
        "outputId": "13342c47-182d-4553-88df-d638a5ffa3af"
      },
      "execution_count": 141,
      "outputs": [
        {
          "output_type": "display_data",
          "data": {
            "text/plain": [
              "<PIL.Image.Image image mode=RGB size=90x90 at 0x7F997BA31CA0>"
            ],
            "image/png": "[encoded data removed]"
          },
          "metadata": {}
        },
        {
          "output_type": "display_data",
          "data": {
            "text/plain": [
              "<PIL.Image.Image image mode=RGB size=90x90 at 0x7F997BA31550>"
            ],
            "image/png": "[encoded data removed]"
          },
          "metadata": {}
        }
      ]
    }
  ]
}