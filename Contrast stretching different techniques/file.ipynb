{
  "nbformat": 4,
  "nbformat_minor": 0,
  "metadata": {
    "colab": {
      "provenance": [],
      "collapsed_sections": [
        "gIe3FKXCM2bd"
      ]
    },
    "kernelspec": {
      "name": "python3",
      "display_name": "Python 3"
    },
    "language_info": {
      "name": "python"
    }
  },
  "cells": [
    {
      "cell_type": "code",
      "execution_count": 408,
      "metadata": {
        "id": "Q4Q4tgiMhhxB"
      },
      "outputs": [],
      "source": [
        "import numpy as np\n",
        "import pandas as pd\n",
        "import cv2 as cv \n",
        "from google.colab.patches import cv2_imshow # for image display\n",
        "from skimage import io\n",
        "from PIL import Image \n",
        "import matplotlib.pylab as plt"
      ]
    },
    {
      "cell_type": "code",
      "source": [
        "# from google.colab import files\n",
        "\n",
        "# uploaded = files.upload()"
      ],
      "metadata": {
        "id": "FIhYx056hnsL"
      },
      "execution_count": 409,
      "outputs": []
    },
    {
      "cell_type": "markdown",
      "source": [
        "### 2."
      ],
      "metadata": {
        "id": "gIe3FKXCM2bd"
      }
    },
    {
      "cell_type": "code",
      "source": [
        "def single_leg_contrast_stretching(img, r1, s1, r2, s2):\n",
        "  if (0 <= img and img <= r1):\n",
        "      return (s1 / r1)*img\n",
        "  elif (r1 < img and img <= r2):\n",
        "      return ((s2 - s1)/(r2 - r1)) * (img - r1) + s1\n",
        "  else:\n",
        "      return ((255 - s2)/(255 - r2)) * (img - r2) + s2"
      ],
      "metadata": {
        "id": "b56QiKuJNF3i"
      },
      "execution_count": 410,
      "outputs": []
    },
    {
      "cell_type": "code",
      "source": [
        "img1_1 = cv.imread(\"img1_1.png\", 0)\n",
        "cv2_imshow(img1_1)"
      ],
      "metadata": {
        "colab": {
          "base_uri": "https://localhost:8080/",
          "height": 116
        },
        "id": "EmshipX5O5nM",
        "outputId": "4a43f511-4156-4fe8-9a3e-fe5d65aa11a7"
      },
      "execution_count": 411,
      "outputs": [
        {
          "output_type": "display_data",
          "data": {
            "text/plain": [
              "<PIL.Image.Image image mode=L size=99x99 at 0x7F64BBF52CD0>"
            ],
            "image/png": "[encoded data removed]"
          },
          "metadata": {}
        }
      ]
    },
    {
      "cell_type": "code",
      "source": [
        "pixelVal_vec = np.vectorize(single_leg_contrast_stretching)"
      ],
      "metadata": {
        "id": "B7q8faIgQIVt"
      },
      "execution_count": 412,
      "outputs": []
    },
    {
      "cell_type": "code",
      "source": [
        "img1_1_contrast = pixelVal_vec(img1_1, 0, 30, 225, 255)\n",
        "cv2_imshow(img1_1_contrast)"
      ],
      "metadata": {
        "colab": {
          "base_uri": "https://localhost:8080/",
          "height": 116
        },
        "id": "3szHQxYKO0w9",
        "outputId": "ae632e13-2e94-4f0f-ac13-c4d20ebd76d2"
      },
      "execution_count": 413,
      "outputs": [
        {
          "output_type": "display_data",
          "data": {
            "text/plain": [
              "<PIL.Image.Image image mode=L size=99x99 at 0x7F64BBF04C10>"
            ],
            "image/png": "[encoded data removed]"
          },
          "metadata": {}
        }
      ]
    },
    {
      "cell_type": "code",
      "source": [
        "img1_1_contrast = pixelVal_vec(img1_1, 30, 0, 255, 225)\n",
        "cv2_imshow(img1_1_contrast)"
      ],
      "metadata": {
        "colab": {
          "base_uri": "https://localhost:8080/",
          "height": 116
        },
        "id": "9zZcvQeCQGM1",
        "outputId": "794334b8-c662-43f2-a24d-6b1be8627ef0"
      },
      "execution_count": 414,
      "outputs": [
        {
          "output_type": "display_data",
          "data": {
            "text/plain": [
              "<PIL.Image.Image image mode=L size=99x99 at 0x7F64BBE0D7F0>"
            ],
            "image/png": "[encoded data removed]"
          },
          "metadata": {}
        }
      ]
    },
    {
      "cell_type": "code",
      "source": [
        "img1_1_contrast = pixelVal_vec(img1_1, 30, 0, 180, 255)\n",
        "cv2_imshow(img1_1_contrast)"
      ],
      "metadata": {
        "colab": {
          "base_uri": "https://localhost:8080/",
          "height": 116
        },
        "id": "H_3vGzuqQOvw",
        "outputId": "ab113a74-d8ea-4482-d102-7e51790908e3"
      },
      "execution_count": 415,
      "outputs": [
        {
          "output_type": "display_data",
          "data": {
            "text/plain": [
              "<PIL.Image.Image image mode=L size=99x99 at 0x7F64BBF58880>"
            ],
            "image/png": "[encoded data removed]"
          },
          "metadata": {}
        }
      ]
    },
    {
      "cell_type": "code",
      "source": [
        "img1_1_contrast = pixelVal_vec(img1_1, 80, 0, 80, 255)\n",
        "cv2_imshow(img1_1_contrast)"
      ],
      "metadata": {
        "colab": {
          "base_uri": "https://localhost:8080/",
          "height": 116
        },
        "id": "tKMoHlGrQTuK",
        "outputId": "c445a868-9ae7-41f5-d736-b9be60385f4c"
      },
      "execution_count": 416,
      "outputs": [
        {
          "output_type": "display_data",
          "data": {
            "text/plain": [
              "<PIL.Image.Image image mode=L size=99x99 at 0x7F64BBE0D7F0>"
            ],
            "image/png": "[encoded data removed]"
          },
          "metadata": {}
        }
      ]
    },
    {
      "cell_type": "code",
      "source": [
        "img1_1_contrast = pixelVal_vec(img1_1, 0, 255, 255, 0)\n",
        "cv2_imshow(img1_1_contrast)"
      ],
      "metadata": {
        "colab": {
          "base_uri": "https://localhost:8080/",
          "height": 116
        },
        "id": "ZwW53XV3QZHn",
        "outputId": "3d89df99-2b80-4c29-c66a-89fb01071584"
      },
      "execution_count": 417,
      "outputs": [
        {
          "output_type": "display_data",
          "data": {
            "text/plain": [
              "<PIL.Image.Image image mode=L size=99x99 at 0x7F64BBF04BE0>"
            ],
            "image/png": "[encoded data removed]"
          },
          "metadata": {}
        }
      ]
    },
    {
      "cell_type": "code",
      "source": [
        "img1_1_contrast = pixelVal_vec(img1_1, 30, 80, 180, 80)\n",
        "cv2_imshow(img1_1_contrast)"
      ],
      "metadata": {
        "colab": {
          "base_uri": "https://localhost:8080/",
          "height": 116
        },
        "id": "_wWfH-RSQe8o",
        "outputId": "3764b05d-9c66-4ba0-ebce-534a8e058ad4"
      },
      "execution_count": 418,
      "outputs": [
        {
          "output_type": "display_data",
          "data": {
            "text/plain": [
              "<PIL.Image.Image image mode=L size=99x99 at 0x7F64BBE0D670>"
            ],
            "image/png": "[encoded data removed]"
          },
          "metadata": {}
        }
      ]
    },
    {
      "cell_type": "markdown",
      "source": [
        "### 3."
      ],
      "metadata": {
        "id": "T49FinKxTQq7"
      }
    },
    {
      "cell_type": "code",
      "source": [
        "def two_leg_contrast_stretching(img, r1, s1, r2, s2, r3, s3):\n",
        "  if (0 < img and img <= r1):\n",
        "      return (s1 / r1)*img\n",
        "  elif (r1 < img and img <= r2):\n",
        "      return ((s2 - s1)/(r2 - r1)) * (img - r1) + s1\n",
        "  elif ((r2 < img and img <= r3) or (r3==255 and s3 == 255)):\n",
        "      return ((s3 - s2)/(r3 - r2)) * (img - r2) + s2\n",
        "  else:\n",
        "      return ((255 - s3)/(255 - r3)) * (img - r3) + s3"
      ],
      "metadata": {
        "id": "HNaOeG3aTTCx"
      },
      "execution_count": 419,
      "outputs": []
    },
    {
      "cell_type": "code",
      "source": [
        "pixelVal_vec = np.vectorize(two_leg_contrast_stretching)"
      ],
      "metadata": {
        "id": "-toPpCibT5JG"
      },
      "execution_count": 420,
      "outputs": []
    },
    {
      "cell_type": "code",
      "source": [
        "street = cv.imread(\"street.png\", 0)\n",
        "cv2_imshow(street)"
      ],
      "metadata": {
        "colab": {
          "base_uri": "https://localhost:8080/",
          "height": 146
        },
        "id": "WDx6utbgT8N8",
        "outputId": "4b0cc90d-2560-4dae-de8f-26663a2bde7d"
      },
      "execution_count": 421,
      "outputs": [
        {
          "output_type": "display_data",
          "data": {
            "text/plain": [
              "<PIL.Image.Image image mode=L size=194x129 at 0x7F64BBF58C10>"
            ],
            "image/png": "[encoded data removed]"
          },
          "metadata": {}
        }
      ]
    },
    {
      "cell_type": "code",
      "source": [
        "street_contrast = pixelVal_vec(street, 0, 0, 125, 200, 255, 255)\n",
        "cv2_imshow(street_contrast)"
      ],
      "metadata": {
        "colab": {
          "base_uri": "https://localhost:8080/",
          "height": 146
        },
        "id": "1wD1ab3iUCdj",
        "outputId": "6f46eecb-63d9-4992-a08c-85ba80e547fc"
      },
      "execution_count": 422,
      "outputs": [
        {
          "output_type": "display_data",
          "data": {
            "text/plain": [
              "<PIL.Image.Image image mode=L size=194x129 at 0x7F64BBE0D490>"
            ],
            "image/png": "[encoded data removed]"
          },
          "metadata": {}
        }
      ]
    },
    {
      "cell_type": "code",
      "source": [
        "street_contrast = pixelVal_vec(street, 0, 0, 80, 200, 255, 255)\n",
        "cv2_imshow(street_contrast)"
      ],
      "metadata": {
        "colab": {
          "base_uri": "https://localhost:8080/",
          "height": 146
        },
        "id": "DLrloTaXYZW4",
        "outputId": "dba7839a-f712-4ab9-9086-8ae903612e6d"
      },
      "execution_count": 423,
      "outputs": [
        {
          "output_type": "display_data",
          "data": {
            "text/plain": [
              "<PIL.Image.Image image mode=L size=194x129 at 0x7F64BD9583D0>"
            ],
            "image/png": "[encoded data removed]"
          },
          "metadata": {}
        }
      ]
    },
    {
      "cell_type": "markdown",
      "source": [
        "### 4."
      ],
      "metadata": {
        "id": "5GAxajYYMxgc"
      }
    },
    {
      "cell_type": "code",
      "source": [
        "street = cv.imread(\"street.png\", cv.IMREAD_GRAYSCALE)\n",
        "cv2_imshow(street)"
      ],
      "metadata": {
        "id": "8FlzFC0qh49f",
        "colab": {
          "base_uri": "https://localhost:8080/",
          "height": 146
        },
        "outputId": "d5982057-c1ed-4258-c7df-b75b414b8177"
      },
      "execution_count": 424,
      "outputs": [
        {
          "output_type": "display_data",
          "data": {
            "text/plain": [
              "<PIL.Image.Image image mode=L size=194x129 at 0x7F64BD958670>"
            ],
            "image/png": "[encoded data removed]"
          },
          "metadata": {}
        }
      ]
    },
    {
      "cell_type": "code",
      "source": [
        "def log_transformation(img):\n",
        "  c = 255/(np.log(1 + np.max(img)))\n",
        "  log_transformed = c * np.log(1 + img)\n",
        "  log_transformed = np.array(log_transformed, dtype = np.uint8)\n",
        "  cv2_imshow(log_transformed)"
      ],
      "metadata": {
        "id": "hY6TPCPokjIs"
      },
      "execution_count": 425,
      "outputs": []
    },
    {
      "cell_type": "code",
      "source": [
        "log_transformation(street)"
      ],
      "metadata": {
        "id": "CGwbn_jeJQLB",
        "colab": {
          "base_uri": "https://localhost:8080/",
          "height": 146
        },
        "outputId": "1369189a-9734-486f-b039-c22a31337257"
      },
      "execution_count": 426,
      "outputs": [
        {
          "output_type": "display_data",
          "data": {
            "text/plain": [
              "<PIL.Image.Image image mode=L size=194x129 at 0x7F64BBE0DEB0>"
            ],
            "image/png": "[encoded data removed]"
          },
          "metadata": {}
        }
      ]
    },
    {
      "cell_type": "code",
      "source": [
        "camera = cv.imread(\"camera.png\", cv.IMREAD_GRAYSCALE)\n",
        "cv2_imshow(camera)"
      ],
      "metadata": {
        "id": "g9qmQPmYJTh6",
        "colab": {
          "base_uri": "https://localhost:8080/",
          "height": 144
        },
        "outputId": "7dfde01f-e24c-42c8-d705-8050c6b02e84"
      },
      "execution_count": 427,
      "outputs": [
        {
          "output_type": "display_data",
          "data": {
            "text/plain": [
              "<PIL.Image.Image image mode=L size=191x127 at 0x7F64BBE0D7C0>"
            ],
            "image/png": "[encoded data removed]"
          },
          "metadata": {}
        }
      ]
    },
    {
      "cell_type": "code",
      "source": [
        "log_transformation(camera)"
      ],
      "metadata": {
        "id": "EDjxCiIFKFDN",
        "colab": {
          "base_uri": "https://localhost:8080/",
          "height": 144
        },
        "outputId": "6d82bb7d-01c4-4818-db6b-8a82409df36c"
      },
      "execution_count": 428,
      "outputs": [
        {
          "output_type": "display_data",
          "data": {
            "text/plain": [
              "<PIL.Image.Image image mode=L size=191x127 at 0x7F64BBE0D0A0>"
            ],
            "image/png": "[encoded data removed]"
          },
          "metadata": {}
        }
      ]
    },
    {
      "cell_type": "markdown",
      "source": [
        "### 5."
      ],
      "metadata": {
        "id": "iibJiJXqNwBq"
      }
    },
    {
      "cell_type": "code",
      "source": [
        "def two_leg_contrast_stretching(img, r1, s1, r2, s2, r3, s3):\n",
        "  if (0 < img and img <= r1):\n",
        "      return (s1 / r1)*img\n",
        "  elif (r1 < img and img <= r2):\n",
        "      return ((s2 - s1)/(r2 - r1)) * (img - r1) + s1\n",
        "  elif ((r2 < img and img <= r3) or (r3==255 and s3 == 255)):\n",
        "      return ((s3 - s2)/(r3 - r2)) * (img - r2) + s2\n",
        "  else:\n",
        "      return ((255 - s3)/(255 - r3)) * (img - r3) + s3"
      ],
      "metadata": {
        "id": "GLSjajhFY3ZX"
      },
      "execution_count": 429,
      "outputs": []
    },
    {
      "cell_type": "code",
      "source": [
        "pixelVal_vec = np.vectorize(two_leg_contrast_stretching)"
      ],
      "metadata": {
        "id": "JwgH4om4Y5zj"
      },
      "execution_count": 430,
      "outputs": []
    },
    {
      "cell_type": "code",
      "source": [
        "img5_1 = cv.imread(\"img5_1.png\", cv.IMREAD_GRAYSCALE)\n",
        "cv2_imshow(img5_1)"
      ],
      "metadata": {
        "colab": {
          "base_uri": "https://localhost:8080/",
          "height": 141
        },
        "id": "X-Hmpk1iDYyZ",
        "outputId": "4d411e4d-eda3-47e4-eb28-cc627ba956b6"
      },
      "execution_count": 431,
      "outputs": [
        {
          "output_type": "display_data",
          "data": {
            "text/plain": [
              "<PIL.Image.Image image mode=L size=187x124 at 0x7F64BBE16E50>"
            ],
            "image/png": "[encoded data removed]"
          },
          "metadata": {}
        }
      ]
    },
    {
      "cell_type": "code",
      "source": [
        "img5_1_contrast = pixelVal_vec(img5_1, 0, 0, 125, 200, 255, 255)\n",
        "cv2_imshow(img5_1_contrast)"
      ],
      "metadata": {
        "colab": {
          "base_uri": "https://localhost:8080/",
          "height": 141
        },
        "id": "lmZeA-29QlLr",
        "outputId": "666f7798-c9c5-4182-de4d-f1eacee42d24"
      },
      "execution_count": 432,
      "outputs": [
        {
          "output_type": "display_data",
          "data": {
            "text/plain": [
              "<PIL.Image.Image image mode=L size=187x124 at 0x7F64BBF58400>"
            ],
            "image/png": "[encoded data removed]"
          },
          "metadata": {}
        }
      ]
    },
    {
      "cell_type": "code",
      "source": [
        "img5_2 = cv.imread(\"img5_2.png\", cv.IMREAD_GRAYSCALE)\n",
        "cv2_imshow(img5_2)"
      ],
      "metadata": {
        "colab": {
          "base_uri": "https://localhost:8080/",
          "height": 187
        },
        "id": "EApX1_YIZCFx",
        "outputId": "02942de3-4703-44ea-cc10-6b63479ecf48"
      },
      "execution_count": 433,
      "outputs": [
        {
          "output_type": "display_data",
          "data": {
            "text/plain": [
              "<PIL.Image.Image image mode=L size=170x170 at 0x7F64BBF58E50>"
            ],
            "image/png": "[encoded data removed]"
          },
          "metadata": {}
        }
      ]
    },
    {
      "cell_type": "code",
      "source": [
        "img5_2_contrast = pixelVal_vec(img5_2, 0, 0, 125, 200, 255, 255)\n",
        "cv2_imshow(img5_2_contrast)"
      ],
      "metadata": {
        "id": "RKTmXIowZRzZ",
        "outputId": "f39267cb-8f37-4b45-cfe1-2dade24587d1",
        "colab": {
          "base_uri": "https://localhost:8080/",
          "height": 187
        }
      },
      "execution_count": 434,
      "outputs": [
        {
          "output_type": "display_data",
          "data": {
            "text/plain": [
              "<PIL.Image.Image image mode=L size=170x170 at 0x7F64BBF04850>"
            ],
            "image/png": "[encoded data removed]"
          },
          "metadata": {}
        }
      ]
    }
  ]
}