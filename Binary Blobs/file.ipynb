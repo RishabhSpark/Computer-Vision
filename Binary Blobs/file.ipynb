{
  "nbformat": 4,
  "nbformat_minor": 0,
  "metadata": {
    "colab": {
      "provenance": []
    },
    "kernelspec": {
      "name": "python3",
      "display_name": "Python 3"
    },
    "language_info": {
      "name": "python"
    }
  },
  "cells": [
    {
      "cell_type": "code",
      "execution_count": 1,
      "metadata": {
        "id": "EZl9kD9D3hm5"
      },
      "outputs": [],
      "source": [
        "import numpy as np\n",
        "import pandas as pd\n",
        "import cv2 as cv \n",
        "from google.colab.patches import cv2_imshow # for image display\n",
        "from skimage import io\n",
        "from PIL import Image \n",
        "import matplotlib.pylab as plt\n",
        "import random"
      ]
    },
    {
      "cell_type": "code",
      "source": [
        "grayscale_img1 = cv.imread(\"Picture1.png\", cv.IMREAD_GRAYSCALE)\n",
        "cv2_imshow(grayscale_img1)"
      ],
      "metadata": {
        "colab": {
          "base_uri": "https://localhost:8080/",
          "height": 140
        },
        "id": "s4bF7aeg3yky",
        "outputId": "07917645-4b62-4b2c-def9-0890ebcf5a5d"
      },
      "execution_count": 2,
      "outputs": [
        {
          "output_type": "display_data",
          "data": {
            "text/plain": [
              "<PIL.Image.Image image mode=L size=410x123 at 0x7FB0D8314310>"
            ],
            "image/png": "[encoded data removed]"
          },
          "metadata": {}
        }
      ]
    },
    {
      "cell_type": "code",
      "source": [
        "thresh = cv.threshold(grayscale_img1, 70, 255, cv.THRESH_BINARY)[1]\n",
        "\n",
        "cv2_imshow(thresh)"
      ],
      "metadata": {
        "colab": {
          "base_uri": "https://localhost:8080/",
          "height": 140
        },
        "id": "3ooREe7i4TPS",
        "outputId": "fcb6933e-a29d-46e4-b9c7-363e45e2ed11"
      },
      "execution_count": 3,
      "outputs": [
        {
          "output_type": "display_data",
          "data": {
            "text/plain": [
              "<PIL.Image.Image image mode=L size=410x123 at 0x7FB0DA968490>"
            ],
            "image/png": "[encoded data removed]"
          },
          "metadata": {}
        }
      ]
    },
    {
      "cell_type": "code",
      "source": [
        "number_of_white_pix = np.sum(thresh == 255)\n",
        "number_of_black_pix = np.sum(thresh == 0)\n",
        "  \n",
        "print('Number of white pixels:', number_of_white_pix)\n",
        "print('Number of black pixels:', number_of_black_pix)\n",
        "\n",
        "height = np.size(thresh, 0)\n",
        "width = np.size(thresh, 1)\n",
        "print(\"Width:\", width)\n",
        "print(\"Height:\", height)\n",
        "print(\"Total pixels:\", width*height)"
      ],
      "metadata": {
        "colab": {
          "base_uri": "https://localhost:8080/"
        },
        "id": "Mx63BA8EBwQS",
        "outputId": "059257fd-1146-497a-d5ab-40653ce07584"
      },
      "execution_count": 4,
      "outputs": [
        {
          "output_type": "stream",
          "name": "stdout",
          "text": [
            "Number of white pixels: 41996\n",
            "Number of black pixels: 8434\n",
            "Width: 410\n",
            "Height: 123\n",
            "Total pixels: 50430\n"
          ]
        }
      ]
    },
    {
      "cell_type": "code",
      "source": [
        "num_objects = 0\n",
        "for j in range(0, thresh.shape[1]-1):\n",
        "  if thresh[thresh.shape[0]//2, j]==0 and thresh[thresh.shape[0]//2, j+1]==255:\n",
        "    num_objects+=1\n",
        "print(\"Number of objects:\", num_objects)"
      ],
      "metadata": {
        "colab": {
          "base_uri": "https://localhost:8080/"
        },
        "id": "NTRt0m47_UIr",
        "outputId": "0c237739-4bbd-42db-c5aa-04577d3fe178"
      },
      "execution_count": 5,
      "outputs": [
        {
          "output_type": "stream",
          "name": "stdout",
          "text": [
            "Number of objects: 5\n"
          ]
        }
      ]
    },
    {
      "cell_type": "code",
      "source": [
        "area = [0]\n",
        "\n",
        "counter= 0\n",
        "while(counter<thresh.shape[1]):\n",
        "  newObj= True\n",
        "  for i in range(1, thresh.shape[0]):\n",
        "    if(thresh[i][counter]==0):\n",
        "      area[-1]+=1\n",
        "      newObj= False\n",
        "  counter+=1\n",
        "  if newObj== True and area[-1]!=0:\n",
        "    area.append(0)\n",
        "\n",
        "if area[-1]==0:\n",
        "  area= area[:len(area)-1]\n",
        "\n",
        "area"
      ],
      "metadata": {
        "colab": {
          "base_uri": "https://localhost:8080/"
        },
        "id": "Kn9npdxqFXtT",
        "outputId": "fdb04fe9-4e78-41de-cd07-d921a29657d3"
      },
      "execution_count": 6,
      "outputs": [
        {
          "output_type": "execute_result",
          "data": {
            "text/plain": [
              "[1487, 1513, 2047, 1669, 1718]"
            ]
          },
          "metadata": {},
          "execution_count": 6
        }
      ]
    },
    {
      "cell_type": "code",
      "source": [
        "sum(area)"
      ],
      "metadata": {
        "colab": {
          "base_uri": "https://localhost:8080/"
        },
        "id": "qRFTlW-qGHTu",
        "outputId": "0dd21fc3-541a-42d3-cfb1-87be6b7cbfca"
      },
      "execution_count": 7,
      "outputs": [
        {
          "output_type": "execute_result",
          "data": {
            "text/plain": [
              "8434"
            ]
          },
          "metadata": {},
          "execution_count": 7
        }
      ]
    },
    {
      "cell_type": "code",
      "source": [
        "grayscale_img2 = cv.imread(\"Picture2.png\", cv.IMREAD_GRAYSCALE)\n",
        "cv2_imshow(grayscale_img2)"
      ],
      "metadata": {
        "colab": {
          "base_uri": "https://localhost:8080/",
          "height": 389
        },
        "id": "BEJLRn7RL9JW",
        "outputId": "cc5f01d5-63a0-4d16-e001-457ecbff6191"
      },
      "execution_count": 8,
      "outputs": [
        {
          "output_type": "display_data",
          "data": {
            "text/plain": [
              "<PIL.Image.Image image mode=L size=661x372 at 0x7FB099423CD0>"
            ],
            "image/png": "[encoded data removed]"
          },
          "metadata": {}
        }
      ]
    },
    {
      "cell_type": "code",
      "source": [
        "grayscale_img2.shape"
      ],
      "metadata": {
        "colab": {
          "base_uri": "https://localhost:8080/"
        },
        "id": "rzOT43k2MEwv",
        "outputId": "32089cca-39e7-482f-85e7-b84fdcbfae8c"
      },
      "execution_count": 9,
      "outputs": [
        {
          "output_type": "execute_result",
          "data": {
            "text/plain": [
              "(372, 661)"
            ]
          },
          "metadata": {},
          "execution_count": 9
        }
      ]
    },
    {
      "cell_type": "code",
      "source": [
        "cropped_image = grayscale_img2[160:220, 100:420]\n",
        "cv2_imshow(cropped_image)"
      ],
      "metadata": {
        "colab": {
          "base_uri": "https://localhost:8080/",
          "height": 77
        },
        "id": "UTRrHXmtMPgZ",
        "outputId": "f3593efe-c719-4d6c-cc68-e290278efdeb"
      },
      "execution_count": 10,
      "outputs": [
        {
          "output_type": "display_data",
          "data": {
            "text/plain": [
              "<PIL.Image.Image image mode=L size=320x60 at 0x7FB0D83142E0>"
            ],
            "image/png": "[encoded data removed]"
          },
          "metadata": {}
        }
      ]
    },
    {
      "cell_type": "code",
      "source": [
        "thresh = cv.threshold(cropped_image, 70, 255, cv.THRESH_BINARY)[1]\n",
        "\n",
        "cv2_imshow(thresh)"
      ],
      "metadata": {
        "colab": {
          "base_uri": "https://localhost:8080/",
          "height": 77
        },
        "id": "6kmtrP76MSwX",
        "outputId": "27f7deec-d553-43bf-c6fb-2fdb197a4007"
      },
      "execution_count": 11,
      "outputs": [
        {
          "output_type": "display_data",
          "data": {
            "text/plain": [
              "<PIL.Image.Image image mode=L size=320x60 at 0x7FB0D83142E0>"
            ],
            "image/png": "[encoded data removed]"
          },
          "metadata": {}
        }
      ]
    },
    {
      "cell_type": "code",
      "source": [
        "thresh.shape"
      ],
      "metadata": {
        "colab": {
          "base_uri": "https://localhost:8080/"
        },
        "id": "qN0jf8xkMePK",
        "outputId": "5604049e-c902-4758-f66e-4e81e2a388a4"
      },
      "execution_count": 59,
      "outputs": [
        {
          "output_type": "execute_result",
          "data": {
            "text/plain": [
              "(60, 320)"
            ]
          },
          "metadata": {},
          "execution_count": 59
        }
      ]
    },
    {
      "cell_type": "code",
      "source": [
        "area = [0]\n",
        "h1 = [0]\n",
        "h2 = [1000]\n",
        "w1 = [0]\n",
        "w2 = [1000]\n",
        "\n",
        "counter= 0\n",
        "while(counter<thresh.shape[1]):\n",
        "  newObj=True\n",
        "  for i in range(1, thresh.shape[0]):\n",
        "    if(thresh[i][counter]==0):\n",
        "      h1[-1] = max(i, h1[-1])\n",
        "      h2[-1] = min(i, h2[-1])\n",
        "      w1[-1] = max(counter, w1[-1])\n",
        "      w2[-1] = min(counter, w2[-1])\n",
        "      area[-1]+=1\n",
        "      newObj=False\n",
        "  counter+=1\n",
        "  if newObj==True and area[-1]!=0:\n",
        "    area.append(0)\n",
        "    h1.append(0)\n",
        "    h2.append(1000)\n",
        "    w1.append(0)\n",
        "    w2.append(1000)\n",
        "\n",
        "if area[-1]==0:\n",
        "  area= area[:len(area)-1]\n",
        "  h1 = h1[:len(h1)-1]\n",
        "  h2 = h2[:len(h2)-1]\n",
        "  w1 = w1[:len(w1)-1]\n",
        "  w2 = w2[:len(w2)-1]\n",
        "\n",
        "print(\"Number of objects: \", len(area))"
      ],
      "metadata": {
        "colab": {
          "base_uri": "https://localhost:8080/"
        },
        "id": "BANiARMLM-MG",
        "outputId": "77cff413-02a3-4127-c08d-89af504600dd"
      },
      "execution_count": 52,
      "outputs": [
        {
          "output_type": "stream",
          "name": "stdout",
          "text": [
            "Number of objects:  9\n"
          ]
        }
      ]
    },
    {
      "cell_type": "code",
      "source": [
        "for idx, i in enumerate(area):\n",
        "  print(f\"Area of blob {idx+1}: {i}\")"
      ],
      "metadata": {
        "colab": {
          "base_uri": "https://localhost:8080/"
        },
        "id": "A0IZ87tDNVtp",
        "outputId": "bc0e32e9-3e7c-45f9-f1f7-870e1c28ac88"
      },
      "execution_count": 53,
      "outputs": [
        {
          "output_type": "stream",
          "name": "stdout",
          "text": [
            "Area of blob 1: 607\n",
            "Area of blob 2: 328\n",
            "Area of blob 3: 457\n",
            "Area of blob 4: 499\n",
            "Area of blob 5: 619\n",
            "Area of blob 6: 568\n",
            "Area of blob 7: 288\n",
            "Area of blob 8: 505\n",
            "Area of blob 9: 484\n"
          ]
        }
      ]
    },
    {
      "cell_type": "code",
      "source": [
        "for i in range(len(h1)):\n",
        "  print(f\"Height of blob {i+1}: {h1[i]-h2[i]}\")"
      ],
      "metadata": {
        "colab": {
          "base_uri": "https://localhost:8080/"
        },
        "id": "oSVq0UIrEsqr",
        "outputId": "a6811e46-3c76-4aab-a45a-51865a8a48f3"
      },
      "execution_count": 54,
      "outputs": [
        {
          "output_type": "stream",
          "name": "stdout",
          "text": [
            "Height of blob 1: 39\n",
            "Height of blob 2: 39\n",
            "Height of blob 3: 39\n",
            "Height of blob 4: 40\n",
            "Height of blob 5: 39\n",
            "Height of blob 6: 39\n",
            "Height of blob 7: 38\n",
            "Height of blob 8: 40\n",
            "Height of blob 9: 39\n"
          ]
        }
      ]
    },
    {
      "cell_type": "code",
      "source": [
        "for i in range(len(h1)):\n",
        "  print(f\"Width of blob {i+1}: {w1[i]-w2[i]}\")"
      ],
      "metadata": {
        "colab": {
          "base_uri": "https://localhost:8080/"
        },
        "id": "_VweGhf8JKcu",
        "outputId": "52704452-74e9-45d9-941f-be04d63ca2a6"
      },
      "execution_count": 55,
      "outputs": [
        {
          "output_type": "stream",
          "name": "stdout",
          "text": [
            "Width of blob 1: 24\n",
            "Width of blob 2: 20\n",
            "Width of blob 3: 23\n",
            "Width of blob 4: 26\n",
            "Width of blob 5: 26\n",
            "Width of blob 6: 22\n",
            "Width of blob 7: 14\n",
            "Width of blob 8: 22\n",
            "Width of blob 9: 21\n"
          ]
        }
      ]
    },
    {
      "cell_type": "code",
      "source": [
        "area = [0]\n",
        "vertical_chars = []\n",
        "\n",
        "counter= 0\n",
        "while(counter<thresh.shape[1]):\n",
        "  max_vertical = 0\n",
        "  newObj=True\n",
        "  for i in range(1, thresh.shape[0]):\n",
        "    if(thresh[i][counter]==0):\n",
        "      max_vertical+=1\n",
        "      area[-1]+=1\n",
        "      newObj=False\n",
        "  if(max_vertical>39):\n",
        "    vertical_chars.append(len(area))\n",
        "  counter+=1\n",
        "  if newObj==True and area[-1]!=0:\n",
        "    area.append(0)\n",
        "    \n",
        "if area[-1]==0:\n",
        "  area= area[:len(area)-1]\n",
        "  \n",
        "vertical_chars = set(vertical_chars)\n",
        "print(\"Serial No. of vertical chars are:\", vertical_chars)"
      ],
      "metadata": {
        "colab": {
          "base_uri": "https://localhost:8080/"
        },
        "id": "BNLfdI7SJ4w_",
        "outputId": "23b308d4-54b6-464c-bf94-4fae93dfd21d"
      },
      "execution_count": 69,
      "outputs": [
        {
          "output_type": "stream",
          "name": "stdout",
          "text": [
            "Serial No. of vertical chars are: {1, 2, 5, 6}\n"
          ]
        }
      ]
    }
  ]
}